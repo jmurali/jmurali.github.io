{
 "cells": [
  {
   "cell_type": "markdown",
   "metadata": {},
   "source": [
    "**Vanilla R GUI**\n",
    "![R interface](rinterface.png)"
   ]
  },
  {
   "cell_type": "markdown",
   "metadata": {},
   "source": [
    "R: A Calculator ..\n",
    "====\n"
   ]
  },
  {
   "cell_type": "code",
   "execution_count": null,
   "metadata": {},
   "outputs": [],
   "source": [
    "10+5"
   ]
  },
  {
   "cell_type": "code",
   "execution_count": null,
   "metadata": {},
   "outputs": [],
   "source": [
    "20*6+12*6+12/4\n"
   ]
  },
  {
   "cell_type": "code",
   "execution_count": null,
   "metadata": {},
   "outputs": [],
   "source": [
    "12 %% 4 # '%%'  Modulus operator "
   ]
  },
  {
   "cell_type": "code",
   "execution_count": null,
   "metadata": {},
   "outputs": [],
   "source": [
    "log10(100)"
   ]
  },
  {
   "cell_type": "code",
   "execution_count": null,
   "metadata": {},
   "outputs": [],
   "source": [
    "log(20)"
   ]
  },
  {
   "cell_type": "code",
   "execution_count": null,
   "metadata": {},
   "outputs": [],
   "source": [
    "exp(2.995732)\n"
   ]
  },
  {
   "cell_type": "code",
   "execution_count": null,
   "metadata": {},
   "outputs": [],
   "source": [
    "round(exp(2.995732))"
   ]
  },
  {
   "cell_type": "markdown",
   "metadata": {},
   "source": [
    "R:Intercative Data Analysis- Vector Arithmetic ..\n",
    "========\n",
    "class: small-code\n",
    "\n",
    "* In data analysis single valued objects (like a=1)have no relevance.Here, a variable is something that varies from case to case.\n",
    "* R's data  type vector: a collection of values of a single type\n"
   ]
  },
  {
   "cell_type": "code",
   "execution_count": null,
   "metadata": {},
   "outputs": [],
   "source": [
    "height=c(113,66,66,69.5,70,70.5,71,72,72.25,72.5,72.75,67,116) \n",
    "height"
   ]
  },
  {
   "cell_type": "code",
   "execution_count": null,
   "metadata": {},
   "outputs": [],
   "source": [
    "mean(height)"
   ]
  },
  {
   "cell_type": "code",
   "execution_count": null,
   "metadata": {},
   "outputs": [],
   "source": [
    "sd(height)"
   ]
  },
  {
   "cell_type": "code",
   "execution_count": null,
   "metadata": {},
   "outputs": [],
   "source": [
    "meansdori=c(mean=mean(height),sd=sd(height))\n",
    "meansdori "
   ]
  },
  {
   "cell_type": "markdown",
   "metadata": {},
   "source": [
    "* Let us assume that we made an error in the measurements and to correct this mistake we need to add 5 to each height values.\n",
    "* R's vector arithmetic comes in handy"
   ]
  },
  {
   "cell_type": "code",
   "execution_count": null,
   "metadata": {},
   "outputs": [],
   "source": [
    "height=height+5\n",
    "height"
   ]
  },
  {
   "cell_type": "code",
   "execution_count": null,
   "metadata": {},
   "outputs": [],
   "source": [
    "meansdadd=c(mean=mean(height),sd=sd(height))\n",
    "meansdadd "
   ]
  },
  {
   "cell_type": "markdown",
   "metadata": {},
   "source": [
    "* So, transformation of data by just adding a constant to all the members of a data vector has no impact on the SD but it affects the average"
   ]
  },
  {
   "cell_type": "markdown",
   "metadata": {},
   "source": [
    "* Now, let us change the unit of measurement from inches to centimeters- multiply each element of 'height' by 2.54"
   ]
  },
  {
   "cell_type": "code",
   "execution_count": null,
   "metadata": {},
   "outputs": [],
   "source": [
    "height=height-5\n",
    "height=height*2.54\n",
    "height"
   ]
  },
  {
   "cell_type": "code",
   "execution_count": null,
   "metadata": {},
   "outputs": [],
   "source": [
    "meansdmult=c(mean=mean(height),sd=sd(height))\n",
    "meansdmult"
   ]
  },
  {
   "cell_type": "markdown",
   "metadata": {},
   "source": [
    "* Notice the change in values of both mean and SD. This means multiplication affects both mean and SD"
   ]
  },
  {
   "cell_type": "markdown",
   "metadata": {},
   "source": [
    "R: Data analysis with online data..\n",
    "===\n",
    "* World Bank Data (http://data.worldbank.org/)\n",
    " * http://data.worldbank.org/indicator/ST.INT.RCPT.CD\n",
    "* R users don't need to move to the World Bank site and download it\n",
    "* Use the package WDI, which helps us search and extract world development indicators data directly from R"
   ]
  },
  {
   "cell_type": "code",
   "execution_count": null,
   "metadata": {},
   "outputs": [],
   "source": [
    "# install.packages('WDI')\n",
    "install.packages('WDI')\n",
    "library('WDI')"
   ]
  },
  {
   "cell_type": "markdown",
   "metadata": {},
   "source": [
    "* One can search for the required data using the command WDIsearch. For the data on tourism receipts proceed as follows:"
   ]
  },
  {
   "cell_type": "code",
   "execution_count": null,
   "metadata": {},
   "outputs": [],
   "source": [
    "WDIsearch('tourism')"
   ]
  },
  {
   "cell_type": "markdown",
   "metadata": {},
   "source": [
    "*  Let us select \"ST.INT.RCPT.CD\",the code for \"International tourism, receipts (current US$)\" data\n",
    "* Now, we will download the data using the function WDI"
   ]
  },
  {
   "cell_type": "code",
   "execution_count": null,
   "metadata": {},
   "outputs": [],
   "source": [
    "start_date=1995\n",
    "end_date=2013\n",
    "dat2 = WDI(indicator=\"ST.INT.RCPT.CD\",  start=1995, end=end_date,extra=TRUE)\n",
    "str(dat2)\n",
    "no_of_years=end_date-start_date+1\n",
    "no_of_years"
   ]
  },
  {
   "cell_type": "markdown",
   "metadata": {},
   "source": [
    "* The data set 'dat2' contains tourism receipts for the period 1995 (start date) to 2013 (end date) across several countries\n",
    "* Let us list out a few observations (with selected variables)"
   ]
  },
  {
   "cell_type": "code",
   "execution_count": null,
   "metadata": {},
   "outputs": [],
   "source": [
    "dat2[1:19,c(\"country\",\"ST.INT.RCPT.CD\",\"region\",\"year\")]"
   ]
  },
  {
   "cell_type": "markdown",
   "metadata": {},
   "source": [
    "\n",
    "* The data set contains not just country data alone; some of the rows are region aggregates. So, let us eliminate all such rows."
   ]
  },
  {
   "cell_type": "code",
   "execution_count": null,
   "metadata": {},
   "outputs": [],
   "source": [
    "dat2=subset(dat2,region!=\"Aggregates\")\n",
    "dim(dat2)"
   ]
  },
  {
   "cell_type": "markdown",
   "metadata": {},
   "source": [
    "* Now, let us pick only relevant variables and drop the rest"
   ]
  },
  {
   "cell_type": "code",
   "execution_count": null,
   "metadata": {},
   "outputs": [],
   "source": [
    "dat2=subset(dat2,select=c(\"country\",\"ST.INT.RCPT.CD\",\"year\"))\n",
    "dim(dat2)"
   ]
  },
  {
   "cell_type": "markdown",
   "metadata": {},
   "source": [
    "* How many countries' data we have?"
   ]
  },
  {
   "cell_type": "code",
   "execution_count": null,
   "metadata": {},
   "outputs": [],
   "source": [
    "length(unique(dat2$country))\n",
    "length(unique(dat2$country))*no_of_years"
   ]
  },
  {
   "cell_type": "code",
   "execution_count": null,
   "metadata": {},
   "outputs": [],
   "source": [
    "\n",
    "print(c('Now we have',no_of_years, 'years of data for', length(unique(dat2$country)),'countries  (total rows=', length(unique(dat2$country))*no_of_years))"
   ]
  },
  {
   "cell_type": "markdown",
   "metadata": {},
   "source": [
    "Now let us clean the data"
   ]
  },
  {
   "cell_type": "markdown",
   "metadata": {},
   "source": [
    "* Some cases have no data (with NA values) and we need to eliminate them \n",
    "\n",
    "* Let us eliminate all cases  with no data using the function 'complete.cases()'- this function returns a logical vector indicating which cases are complete\n"
   ]
  },
  {
   "cell_type": "code",
   "execution_count": null,
   "metadata": {},
   "outputs": [],
   "source": [
    "dat2=dat2[complete.cases(dat2),]\n",
    "dim(dat2)"
   ]
  },
  {
   "cell_type": "markdown",
   "metadata": {},
   "source": [
    "* Now, in our  data set, though most countries have data for all the 19 years (1995-2013), a  few ones still exist with incomplete data\n",
    "* Let us find the countries with incomplete data\n"
   ]
  },
  {
   "cell_type": "code",
   "execution_count": null,
   "metadata": {},
   "outputs": [],
   "source": [
    "cases1=tapply(dat2$ST.INT.RCPT.CD,dat2$country,length)\n",
    "# * The vector 'cases1' contains size information (no. of data points for each of the countries)"
   ]
  },
  {
   "cell_type": "code",
   "execution_count": null,
   "metadata": {},
   "outputs": [],
   "source": [
    "cases1[1:5]\n",
    "dim(cases1)"
   ]
  },
  {
   "cell_type": "code",
   "execution_count": null,
   "metadata": {},
   "outputs": [],
   "source": [
    "#  Now, we just need to filter out all the countries with size less than 19\n",
    "eliminate1=names(cases1[cases1<no_of_years])\n",
    "# The vector 'eliminate1' contains the names of all countries with incomplete data. We will use this vector and remove all countries with incomplete data\n",
    "# dat3=dat2[cases1==19,]\n",
    "dat2=subset(dat2,!(country %in% eliminate1))\n",
    "dim(dat2)"
   ]
  },
  {
   "cell_type": "code",
   "execution_count": null,
   "metadata": {},
   "outputs": [],
   "source": [
    "length(unique(dat2$country))"
   ]
  },
  {
   "cell_type": "code",
   "execution_count": null,
   "metadata": {},
   "outputs": [],
   "source": [
    "print(c('Now we have',no_of_years, 'years of data for', length(unique(dat2$country)),'countries  (total rows=', length(unique(dat2$country))*no_of_years))"
   ]
  },
  {
   "cell_type": "code",
   "execution_count": null,
   "metadata": {},
   "outputs": [],
   "source": [
    "# * Now we have 19 years complete data for 155 countries\n",
    "# * Before moving ahead, let us rescale the receipts data  to millions of dollars by dividing it with 1000000\n",
    "dat2$ST.INT.RCPT.CD=dat2$ST.INT.RCPT.CD/1000000"
   ]
  },
  {
   "cell_type": "code",
   "execution_count": null,
   "metadata": {},
   "outputs": [],
   "source": [
    "# * Now let us create a time series graph for 4 countries; here we use the package ggplot2\n",
    "\n",
    "library(ggplot2) \n",
    "# library('png')\n"
   ]
  },
  {
   "cell_type": "code",
   "execution_count": null,
   "metadata": {},
   "outputs": [],
   "source": [
    "ggplot(subset(dat2,country %in% c(\"Brazil\", \"Russian Federation\", \"India\", \"China\",\"South Africa\")), aes(year, ST.INT.RCPT.CD, color=country)) + geom_line() + xlab('Year') + ylab('Tourist Receipts')+ ggtitle(\"Tourist Receipts for BRICS countries: 1995-2013\" )"
   ]
  },
  {
   "cell_type": "markdown",
   "metadata": {
    "collapsed": true
   },
   "source": [
    "R: Data analysis with online data: Some insights\n",
    "==="
   ]
  },
  {
   "cell_type": "code",
   "execution_count": null,
   "metadata": {},
   "outputs": [],
   "source": [
    "# * Let us find the average receipts across countries\n",
    "avg1=tapply(dat2$ST.INT.RCPT.CD,dat2$country,mean)\n",
    "avg1[1:10] #Average for first 10 countries\n"
   ]
  },
  {
   "cell_type": "code",
   "execution_count": null,
   "metadata": {},
   "outputs": [],
   "source": [
    "# * Average for India, China and Pakistan\n",
    "avg1[c('India','China','Pakistan')]\n"
   ]
  },
  {
   "cell_type": "code",
   "execution_count": null,
   "metadata": {},
   "outputs": [],
   "source": [
    "# Let us compute median, maximum,minimum, range,standard deviation etc\n",
    "med1=tapply(dat2$ST.INT.RCPT.CD,dat2$country,median)\n",
    "min1=tapply(dat2$ST.INT.RCPT.CD,dat2$country,min)\n",
    "max1=tapply(dat2$ST.INT.RCPT.CD,dat2$country,max)\n",
    "range1=max1-min1"
   ]
  },
  {
   "cell_type": "code",
   "execution_count": null,
   "metadata": {},
   "outputs": [],
   "source": [
    "# * We can list out the values of these parameters for any of the countries:Median value for Brazil is shown below\n",
    "med1['Brazil']"
   ]
  },
  {
   "cell_type": "code",
   "execution_count": null,
   "metadata": {},
   "outputs": [],
   "source": [
    "# Maximum value for Brazil, Russia, India, China and South Africa\n",
    "max1[c(\"Brazil\", \"Russian Federation\", \"India\", \"China\",\"South Africa\")]"
   ]
  },
  {
   "cell_type": "code",
   "execution_count": null,
   "metadata": {},
   "outputs": [],
   "source": [
    "# * If you wish to find the list of first 10 leading countries in international tourism domain, use the following command\n",
    "sort(avg1,decreasing=TRUE)[1:10]"
   ]
  },
  {
   "cell_type": "code",
   "execution_count": null,
   "metadata": {},
   "outputs": [],
   "source": []
  }
 ],
 "metadata": {
  "celltoolbar": "Raw Cell Format",
  "kernelspec": {
   "display_name": "R",
   "language": "R",
   "name": "ir"
  },
  "language_info": {
   "codemirror_mode": "r",
   "file_extension": ".r",
   "mimetype": "text/x-r-source",
   "name": "R",
   "pygments_lexer": "r",
   "version": "3.4.2"
  }
 },
 "nbformat": 4,
 "nbformat_minor": 2
}
